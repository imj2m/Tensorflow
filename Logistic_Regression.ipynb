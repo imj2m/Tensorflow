{
 "cells": [
  {
   "cell_type": "code",
   "execution_count": 61,
   "metadata": {
    "collapsed": true
   },
   "outputs": [],
   "source": [
    "import tensorflow as tf\n",
    "from numpy import genfromtxt"
   ]
  },
  {
   "cell_type": "code",
   "execution_count": 71,
   "metadata": {
    "collapsed": false
   },
   "outputs": [
    {
     "name": "stdout",
     "output_type": "stream",
     "text": [
      "(100, 11)\n",
      "(90, 10) (90,)\n",
      "(9, 10) (9,)\n",
      "10\n"
     ]
    }
   ],
   "source": [
    "csv_data = genfromtxt(\"/Users/MJ/about_tensorflow/logisticData/ds1.10_sample.csv\", delimiter=',')\n",
    "print csv_data.shape\n",
    "x_train = csv_data[:90, :10]\n",
    "y_train = csv_data[:90, -1]\n",
    "print x_train.shape, y_train.shape\n",
    "\n",
    "x_test = csv_data[90:-1, :10]\n",
    "y_test = csv_data[90:-1, -1]\n",
    "print x_test.shape, y_test.shape\n",
    "print len(x_train[1])"
   ]
  },
  {
   "cell_type": "code",
   "execution_count": 72,
   "metadata": {
    "collapsed": false
   },
   "outputs": [],
   "source": [
    "X = tf.placeholder(tf.float32)\n",
    "Y = tf.placeholder(tf.float32)\n",
    "\n",
    "W = tf.Variable(tf.random_normal([len(x_train[1]), 1], -1.0, 1.0))\n",
    "\n",
    "h = tf.matmul(X, W) # X : (90x10), W : (10x1)\n",
    "hypothesis = tf.div(1.0, 1.0 + tf.exp(-h))\n",
    "# hypothesis = tf.transpose(g)\n",
    "cost = -tf.reduce_mean(Y * tf.log(hypothesis) + (1 - Y) * tf.log(1 - hypothesis))\n",
    "\n",
    "a = tf.Variable(0.1) # Learning Rate\n",
    "optimizer = tf.train.GradientDescentOptimizer(a).minimize(cost)"
   ]
  },
  {
   "cell_type": "code",
   "execution_count": 77,
   "metadata": {
    "collapsed": false
   },
   "outputs": [
    {
     "name": "stdout",
     "output_type": "stream",
     "text": [
      "0\n",
      "cost =  2.70205\n",
      "100\n",
      "cost =  0.271219\n",
      "200\n",
      "cost =  0.246108\n",
      "300\n",
      "cost =  0.231051\n",
      "400\n",
      "cost =  0.21821\n",
      "500\n",
      "cost =  0.207026\n",
      "600\n",
      "cost =  0.1974\n",
      "700\n",
      "cost =  0.189236\n",
      "800\n",
      "cost =  0.182405\n",
      "900\n",
      "cost =  0.176741\n"
     ]
    }
   ],
   "source": [
    "init = tf.initialize_all_variables()\n",
    "\n",
    "with tf.Session() as sess:\n",
    "    sess.run(init)\n",
    "    \n",
    "    for step in xrange(1000):\n",
    "        sess.run(optimizer, feed_dict={X:x_train, Y:y_train})\n",
    "        \n",
    "        if step % 100 == 0:\n",
    "            print step\n",
    "            print \"cost = \", sess.run(cost, feed_dict={X:x_train, Y:y_train})\n"
   ]
  },
  {
   "cell_type": "markdown",
   "metadata": {},
   "source": [
    "* ### test set 적용해보기"
   ]
  },
  {
   "cell_type": "code",
   "execution_count": null,
   "metadata": {
    "collapsed": true
   },
   "outputs": [],
   "source": []
  }
 ],
 "metadata": {
  "kernelspec": {
   "display_name": "Python 2",
   "language": "python",
   "name": "python2"
  },
  "language_info": {
   "codemirror_mode": {
    "name": "ipython",
    "version": 2
   },
   "file_extension": ".py",
   "mimetype": "text/x-python",
   "name": "python",
   "nbconvert_exporter": "python",
   "pygments_lexer": "ipython2",
   "version": "2.7.11"
  }
 },
 "nbformat": 4,
 "nbformat_minor": 0
}
