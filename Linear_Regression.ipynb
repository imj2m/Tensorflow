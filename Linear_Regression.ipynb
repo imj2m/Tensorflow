{
 "cells": [
  {
   "cell_type": "code",
   "execution_count": 1,
   "metadata": {
    "collapsed": true
   },
   "outputs": [],
   "source": [
    "import tensorflow as tf\n",
    "import numpy\n",
    "import matplotlib.pyplot as plt\n",
    "rng = numpy.random"
   ]
  },
  {
   "cell_type": "code",
   "execution_count": 20,
   "metadata": {
    "collapsed": true
   },
   "outputs": [],
   "source": [
    "learning_rate = 0.01\n",
    "iter_num = 2000\n",
    "dp_step = 100"
   ]
  },
  {
   "cell_type": "code",
   "execution_count": 21,
   "metadata": {
    "collapsed": false
   },
   "outputs": [
    {
     "name": "stdout",
     "output_type": "stream",
     "text": [
      "17\n"
     ]
    }
   ],
   "source": [
    "train_X = numpy.array([3.3,4.4,5.5,6.71,6.93,4.168,9.779,6.182,7.59,2.167,7.042,10.791,5.313,7.997,5.654,9.27,3.1])\n",
    "train_Y = numpy.array([1.7,2.76,2.09,3.19,1.694,1.573,3.366,2.596,2.53,1.221,2.827,3.465,1.65,2.904,2.42,2.94,1.3])\n",
    "\n",
    "test_x = numpy.array([7.1])\n",
    "\n",
    "train_size = train_X.shape[0]\n",
    "print train_size"
   ]
  },
  {
   "cell_type": "code",
   "execution_count": 22,
   "metadata": {
    "collapsed": false
   },
   "outputs": [],
   "source": [
    "X = tf.placeholder('float')\n",
    "Y = tf.placeholder('float')"
   ]
  },
  {
   "cell_type": "code",
   "execution_count": 23,
   "metadata": {
    "collapsed": false
   },
   "outputs": [],
   "source": [
    "# Models\n",
    "W = tf.Variable(rng.randn(), name='weight')\n",
    "b = tf.Variable(rng.randn(), name='bias')"
   ]
  },
  {
   "cell_type": "code",
   "execution_count": 24,
   "metadata": {
    "collapsed": true
   },
   "outputs": [],
   "source": [
    "activation = tf.add(tf.mul(X, W), b)"
   ]
  },
  {
   "cell_type": "markdown",
   "metadata": {},
   "source": [
    "* #### cost function and Gradient Descent"
   ]
  },
  {
   "cell_type": "code",
   "execution_count": 25,
   "metadata": {
    "collapsed": true
   },
   "outputs": [],
   "source": [
    "cost = tf.reduce_sum(tf.pow(activation - Y, 2)) / (2 * train_size) # 1/2m * sum((h - y)^2)\n",
    "optimizer = tf.train.GradientDescentOptimizer(learning_rate).minimize(cost)"
   ]
  },
  {
   "cell_type": "code",
   "execution_count": null,
   "metadata": {
    "collapsed": true
   },
   "outputs": [],
   "source": [
    "init = tf.initialize_all_variables()"
   ]
  },
  {
   "cell_type": "markdown",
   "metadata": {},
   "source": [
    "* #### Training the model and Prediction"
   ]
  },
  {
   "cell_type": "code",
   "execution_count": null,
   "metadata": {
    "collapsed": false
   },
   "outputs": [
    {
     "name": "stdout",
     "output_type": "stream",
     "text": [
      "step :  0001 cost =   3.414956570 W =  0.645217  b =  0.761072\n",
      "step :  0101 cost =   0.077409960 W =  0.261263  b =  0.717519\n",
      "step :  0201 cost =   0.077317022 W =  0.259916  b =  0.727208\n",
      "step :  0301 cost =   0.077244468 W =  0.258725  b =  0.735779\n",
      "step :  0401 cost =   0.077187881 W =  0.25767  b =  0.743362\n",
      "step :  0501 cost =   0.077143759 W =  0.256738  b =  0.75007\n",
      "step :  0601 cost =   0.077109396 W =  0.255913  b =  0.756003\n",
      "step :  0701 cost =   0.077082619 W =  0.255184  b =  0.761253\n",
      "step :  0801 cost =   0.077061787 W =  0.254538  b =  0.765896\n",
      "step :  0901 cost =   0.077045567 W =  0.253967  b =  0.770003\n",
      "step :  1001 cost =   0.077032976 W =  0.253462  b =  0.773637\n",
      "step :  1101 cost =   0.077023193 W =  0.253015  b =  0.776851\n",
      "step :  1201 cost =   0.077015609 W =  0.25262  b =  0.779695\n",
      "step :  1301 cost =   0.077009737 W =  0.25227  b =  0.78221\n",
      "step :  1401 cost =   0.077005208 W =  0.251961  b =  0.784437\n",
      "step :  1501 cost =   0.077001698 W =  0.251688  b =  0.786402\n",
      "step :  1601 cost =   0.076999009 W =  0.251446  b =  0.788138\n",
      "step :  1701 cost =   0.076996930 W =  0.251233  b =  0.789674\n",
      "step :  1801 cost =   0.076995336 W =  0.251044  b =  0.791034\n",
      "step :  1901 cost =   0.076994136 W =  0.250877  b =  0.792235\n",
      "Optimization Finished!\n",
      "cost =  0.076993227 W =  0.250731  b =  0.793285\n",
      "[ 2.57347417]\n"
     ]
    }
   ],
   "source": [
    "with tf.Session() as sess:\n",
    "    sess.run(init)\n",
    "    \n",
    "    # Learning Model\n",
    "    for step in xrange(iter_num):\n",
    "        for (x, y) in zip(train_X, train_Y):\n",
    "            sess.run(optimizer, feed_dict={X: x, Y: y})\n",
    "            \n",
    "        if step % dp_step == 0:\n",
    "            print 'step : ', '%04d' % (step + 1), 'cost = ', \\\n",
    "                '{: .9f}'.format(sess.run(cost, feed_dict={X: train_X, Y: train_Y})), \\\n",
    "                'W = ', sess.run(W), ' b = ', sess.run(b)\n",
    "                \n",
    "    print 'Optimization Finished!'\n",
    "    print 'cost = {: .9f}'.format(sess.run(cost, feed_dict={X: train_X, Y: train_Y})), \\\n",
    "        'W = ', sess.run(W), ' b = ', sess.run(b)\n",
    "        \n",
    "    # prediction\n",
    "    print sess.run(activation, feed_dict={X: test_x})\n",
    "            \n",
    "    # display\n",
    "    plt.plot(train_X, train_Y, 'ro', label='Original data')\n",
    "#     plt.plot(train_X, sess.run(activation, feed_dict={X: train_X}), label='Fitted line')\n",
    "    plt.plot(train_X, sess.run(W) * train_X + sess.run(b), label='Fitted line')  \n",
    "\n",
    "    plt.plot(test_x, sess.run(activation, feed_dict={X: test_x}), 'go', label='Prediction data')\n",
    "    \n",
    "    plt.legend()\n",
    "    plt.show()"
   ]
  },
  {
   "cell_type": "code",
   "execution_count": null,
   "metadata": {
    "collapsed": true
   },
   "outputs": [],
   "source": []
  }
 ],
 "metadata": {
  "kernelspec": {
   "display_name": "Python 2",
   "language": "python",
   "name": "python2"
  },
  "language_info": {
   "codemirror_mode": {
    "name": "ipython",
    "version": 2
   },
   "file_extension": ".py",
   "mimetype": "text/x-python",
   "name": "python",
   "nbconvert_exporter": "python",
   "pygments_lexer": "ipython2",
   "version": "2.7.11"
  }
 },
 "nbformat": 4,
 "nbformat_minor": 0
}
